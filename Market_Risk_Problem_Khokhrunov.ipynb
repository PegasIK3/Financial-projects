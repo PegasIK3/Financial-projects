{
  "nbformat": 4,
  "nbformat_minor": 0,
  "metadata": {
    "colab": {
      "provenance": [],
      "toc_visible": true
    },
    "kernelspec": {
      "name": "python3",
      "display_name": "Python 3"
    },
    "language_info": {
      "name": "python"
    }
  },
  "cells": [
    {
      "cell_type": "markdown",
      "source": [
        "Installing all packages"
      ],
      "metadata": {
        "id": "zgF89BBysfoY"
      }
    },
    {
      "cell_type": "code",
      "execution_count": null,
      "metadata": {
        "colab": {
          "base_uri": "https://localhost:8080/"
        },
        "id": "ueATL2OaqV-o",
        "outputId": "ff3aa642-79d1-49d7-b198-5f63328e1e8c"
      },
      "outputs": [
        {
          "output_type": "stream",
          "name": "stdout",
          "text": [
            "Requirement already satisfied: yfinance in /usr/local/lib/python3.10/dist-packages (0.2.33)\n",
            "Requirement already satisfied: pandas>=1.3.0 in /usr/local/lib/python3.10/dist-packages (from yfinance) (1.5.3)\n",
            "Requirement already satisfied: numpy>=1.16.5 in /usr/local/lib/python3.10/dist-packages (from yfinance) (1.23.5)\n",
            "Requirement already satisfied: requests>=2.31 in /usr/local/lib/python3.10/dist-packages (from yfinance) (2.31.0)\n",
            "Requirement already satisfied: multitasking>=0.0.7 in /usr/local/lib/python3.10/dist-packages (from yfinance) (0.0.11)\n",
            "Requirement already satisfied: lxml>=4.9.1 in /usr/local/lib/python3.10/dist-packages (from yfinance) (4.9.3)\n",
            "Requirement already satisfied: appdirs>=1.4.4 in /usr/local/lib/python3.10/dist-packages (from yfinance) (1.4.4)\n",
            "Requirement already satisfied: pytz>=2022.5 in /usr/local/lib/python3.10/dist-packages (from yfinance) (2023.3.post1)\n",
            "Requirement already satisfied: frozendict>=2.3.4 in /usr/local/lib/python3.10/dist-packages (from yfinance) (2.3.10)\n",
            "Requirement already satisfied: peewee>=3.16.2 in /usr/local/lib/python3.10/dist-packages (from yfinance) (3.17.0)\n",
            "Requirement already satisfied: beautifulsoup4>=4.11.1 in /usr/local/lib/python3.10/dist-packages (from yfinance) (4.11.2)\n",
            "Requirement already satisfied: html5lib>=1.1 in /usr/local/lib/python3.10/dist-packages (from yfinance) (1.1)\n",
            "Requirement already satisfied: soupsieve>1.2 in /usr/local/lib/python3.10/dist-packages (from beautifulsoup4>=4.11.1->yfinance) (2.5)\n",
            "Requirement already satisfied: six>=1.9 in /usr/local/lib/python3.10/dist-packages (from html5lib>=1.1->yfinance) (1.16.0)\n",
            "Requirement already satisfied: webencodings in /usr/local/lib/python3.10/dist-packages (from html5lib>=1.1->yfinance) (0.5.1)\n",
            "Requirement already satisfied: python-dateutil>=2.8.1 in /usr/local/lib/python3.10/dist-packages (from pandas>=1.3.0->yfinance) (2.8.2)\n",
            "Requirement already satisfied: charset-normalizer<4,>=2 in /usr/local/lib/python3.10/dist-packages (from requests>=2.31->yfinance) (3.3.2)\n",
            "Requirement already satisfied: idna<4,>=2.5 in /usr/local/lib/python3.10/dist-packages (from requests>=2.31->yfinance) (3.6)\n",
            "Requirement already satisfied: urllib3<3,>=1.21.1 in /usr/local/lib/python3.10/dist-packages (from requests>=2.31->yfinance) (2.0.7)\n",
            "Requirement already satisfied: certifi>=2017.4.17 in /usr/local/lib/python3.10/dist-packages (from requests>=2.31->yfinance) (2023.11.17)\n",
            "Requirement already satisfied: yahoofinancials in /usr/local/lib/python3.10/dist-packages (1.20)\n",
            "Requirement already satisfied: pytz>=2022.5 in /usr/local/lib/python3.10/dist-packages (from yahoofinancials) (2023.3.post1)\n",
            "Requirement already satisfied: requests>=2.31 in /usr/local/lib/python3.10/dist-packages (from yahoofinancials) (2.31.0)\n",
            "Requirement already satisfied: appdirs>=1.4.4 in /usr/local/lib/python3.10/dist-packages (from yahoofinancials) (1.4.4)\n",
            "Requirement already satisfied: frozendict>=2.3.4 in /usr/local/lib/python3.10/dist-packages (from yahoofinancials) (2.3.10)\n",
            "Requirement already satisfied: peewee>=3.16.2 in /usr/local/lib/python3.10/dist-packages (from yahoofinancials) (3.17.0)\n",
            "Requirement already satisfied: beautifulsoup4>=4.11.1 in /usr/local/lib/python3.10/dist-packages (from yahoofinancials) (4.11.2)\n",
            "Requirement already satisfied: lxml>=4.9.1 in /usr/local/lib/python3.10/dist-packages (from yahoofinancials) (4.9.3)\n",
            "Requirement already satisfied: soupsieve>1.2 in /usr/local/lib/python3.10/dist-packages (from beautifulsoup4>=4.11.1->yahoofinancials) (2.5)\n",
            "Requirement already satisfied: charset-normalizer<4,>=2 in /usr/local/lib/python3.10/dist-packages (from requests>=2.31->yahoofinancials) (3.3.2)\n",
            "Requirement already satisfied: idna<4,>=2.5 in /usr/local/lib/python3.10/dist-packages (from requests>=2.31->yahoofinancials) (3.6)\n",
            "Requirement already satisfied: urllib3<3,>=1.21.1 in /usr/local/lib/python3.10/dist-packages (from requests>=2.31->yahoofinancials) (2.0.7)\n",
            "Requirement already satisfied: certifi>=2017.4.17 in /usr/local/lib/python3.10/dist-packages (from requests>=2.31->yahoofinancials) (2023.11.17)\n"
          ]
        }
      ],
      "source": [
        "import warnings\n",
        "warnings.filterwarnings('ignore')\n",
        "!pip install yfinance\n",
        "!pip install yahoofinancials\n",
        "import pandas as pd\n",
        "import statsmodels.api as sm\n",
        "import yfinance as yf\n",
        "import numpy as np\n",
        "import matplotlib.pyplot as plt\n",
        "import math\n",
        "from datetime import timedelta\n",
        "from datetime import datetime\n",
        "from scipy import stats\n",
        "from yahoofinancials import YahooFinancials"
      ]
    },
    {
      "cell_type": "markdown",
      "source": [
        "Downloading data from 1.1. 2020 – 30.9.2023 YahooFinance. American stock is Microsoft 'MSFT' and fiat currency pair is EUR-JPY."
      ],
      "metadata": {
        "id": "NZcuXtG9sjBe"
      }
    },
    {
      "cell_type": "code",
      "source": [
        "df_total = yf.download(['BTC-USD', 'TSLA', 'NVDA', 'MSFT', 'EURJPY=X'],\n",
        "                      start='2020-01-1',\n",
        "                      end='2023-09-30',\n",
        "                      progress=False).fillna(method='ffill')\n",
        "df_total.head()\n",
        "#df_total.Close.head() # Close prices"
      ],
      "metadata": {
        "colab": {
          "base_uri": "https://localhost:8080/",
          "height": 405
        },
        "id": "ZBR-H7Tfslh4",
        "outputId": "3ddd6875-818c-4189-99eb-bc8ab73ed170"
      },
      "execution_count": null,
      "outputs": [
        {
          "output_type": "execute_result",
          "data": {
            "text/plain": [
              "              Adj Close                                             \\\n",
              "                BTC-USD    EURJPY=X        MSFT       NVDA    TSLA   \n",
              "Date                                                                 \n",
              "2020-01-01  7200.174316  121.970001         NaN        NaN     NaN   \n",
              "2020-01-02  6985.470215  121.973000  154.779541  59.744045  28.684   \n",
              "2020-01-03  7344.884277  121.245003  152.852264  58.787788  29.534   \n",
              "2020-01-04  7410.656738  121.245003  152.852264  58.787788  29.534   \n",
              "2020-01-05  7411.317383  121.245003  152.852264  58.787788  29.534   \n",
              "\n",
              "                  Close                                             ...  \\\n",
              "                BTC-USD    EURJPY=X        MSFT       NVDA    TSLA  ...   \n",
              "Date                                                                ...   \n",
              "2020-01-01  7200.174316  121.970001         NaN        NaN     NaN  ...   \n",
              "2020-01-02  6985.470215  121.973000  160.619995  59.977501  28.684  ...   \n",
              "2020-01-03  7344.884277  121.245003  158.619995  59.017502  29.534  ...   \n",
              "2020-01-04  7410.656738  121.245003  158.619995  59.017502  29.534  ...   \n",
              "2020-01-05  7411.317383  121.245003  158.619995  59.017502  29.534  ...   \n",
              "\n",
              "                   Open                                                \\\n",
              "                BTC-USD    EURJPY=X        MSFT       NVDA       TSLA   \n",
              "Date                                                                    \n",
              "2020-01-01  7194.892090  121.970001         NaN        NaN        NaN   \n",
              "2020-01-02  7202.551270  121.969002  158.779999  59.687500  28.299999   \n",
              "2020-01-03  6984.428711  121.239998  158.320007  58.775002  29.366667   \n",
              "2020-01-04  7345.375488  121.239998  158.320007  58.775002  29.366667   \n",
              "2020-01-05  7410.451660  121.239998  158.320007  58.775002  29.366667   \n",
              "\n",
              "                 Volume                                                \n",
              "                BTC-USD EURJPY=X        MSFT        NVDA         TSLA  \n",
              "Date                                                                   \n",
              "2020-01-01  18565664997      0.0         NaN         NaN          NaN  \n",
              "2020-01-02  20802083465      0.0  22622100.0  23753600.0  142981500.0  \n",
              "2020-01-03  28111481032      0.0  21116200.0  20538400.0  266677500.0  \n",
              "2020-01-04  18444271275      0.0  21116200.0  20538400.0  266677500.0  \n",
              "2020-01-05  19725074095      0.0  21116200.0  20538400.0  266677500.0  \n",
              "\n",
              "[5 rows x 30 columns]"
            ],
            "text/html": [
              "\n",
              "  <div id=\"df-2cc4afdf-c802-4e01-813b-819a860dcfff\" class=\"colab-df-container\">\n",
              "    <div>\n",
              "<style scoped>\n",
              "    .dataframe tbody tr th:only-of-type {\n",
              "        vertical-align: middle;\n",
              "    }\n",
              "\n",
              "    .dataframe tbody tr th {\n",
              "        vertical-align: top;\n",
              "    }\n",
              "\n",
              "    .dataframe thead tr th {\n",
              "        text-align: left;\n",
              "    }\n",
              "\n",
              "    .dataframe thead tr:last-of-type th {\n",
              "        text-align: right;\n",
              "    }\n",
              "</style>\n",
              "<table border=\"1\" class=\"dataframe\">\n",
              "  <thead>\n",
              "    <tr>\n",
              "      <th></th>\n",
              "      <th colspan=\"5\" halign=\"left\">Adj Close</th>\n",
              "      <th colspan=\"5\" halign=\"left\">Close</th>\n",
              "      <th>...</th>\n",
              "      <th colspan=\"5\" halign=\"left\">Open</th>\n",
              "      <th colspan=\"5\" halign=\"left\">Volume</th>\n",
              "    </tr>\n",
              "    <tr>\n",
              "      <th></th>\n",
              "      <th>BTC-USD</th>\n",
              "      <th>EURJPY=X</th>\n",
              "      <th>MSFT</th>\n",
              "      <th>NVDA</th>\n",
              "      <th>TSLA</th>\n",
              "      <th>BTC-USD</th>\n",
              "      <th>EURJPY=X</th>\n",
              "      <th>MSFT</th>\n",
              "      <th>NVDA</th>\n",
              "      <th>TSLA</th>\n",
              "      <th>...</th>\n",
              "      <th>BTC-USD</th>\n",
              "      <th>EURJPY=X</th>\n",
              "      <th>MSFT</th>\n",
              "      <th>NVDA</th>\n",
              "      <th>TSLA</th>\n",
              "      <th>BTC-USD</th>\n",
              "      <th>EURJPY=X</th>\n",
              "      <th>MSFT</th>\n",
              "      <th>NVDA</th>\n",
              "      <th>TSLA</th>\n",
              "    </tr>\n",
              "    <tr>\n",
              "      <th>Date</th>\n",
              "      <th></th>\n",
              "      <th></th>\n",
              "      <th></th>\n",
              "      <th></th>\n",
              "      <th></th>\n",
              "      <th></th>\n",
              "      <th></th>\n",
              "      <th></th>\n",
              "      <th></th>\n",
              "      <th></th>\n",
              "      <th></th>\n",
              "      <th></th>\n",
              "      <th></th>\n",
              "      <th></th>\n",
              "      <th></th>\n",
              "      <th></th>\n",
              "      <th></th>\n",
              "      <th></th>\n",
              "      <th></th>\n",
              "      <th></th>\n",
              "      <th></th>\n",
              "    </tr>\n",
              "  </thead>\n",
              "  <tbody>\n",
              "    <tr>\n",
              "      <th>2020-01-01</th>\n",
              "      <td>7200.174316</td>\n",
              "      <td>121.970001</td>\n",
              "      <td>NaN</td>\n",
              "      <td>NaN</td>\n",
              "      <td>NaN</td>\n",
              "      <td>7200.174316</td>\n",
              "      <td>121.970001</td>\n",
              "      <td>NaN</td>\n",
              "      <td>NaN</td>\n",
              "      <td>NaN</td>\n",
              "      <td>...</td>\n",
              "      <td>7194.892090</td>\n",
              "      <td>121.970001</td>\n",
              "      <td>NaN</td>\n",
              "      <td>NaN</td>\n",
              "      <td>NaN</td>\n",
              "      <td>18565664997</td>\n",
              "      <td>0.0</td>\n",
              "      <td>NaN</td>\n",
              "      <td>NaN</td>\n",
              "      <td>NaN</td>\n",
              "    </tr>\n",
              "    <tr>\n",
              "      <th>2020-01-02</th>\n",
              "      <td>6985.470215</td>\n",
              "      <td>121.973000</td>\n",
              "      <td>154.779541</td>\n",
              "      <td>59.744045</td>\n",
              "      <td>28.684</td>\n",
              "      <td>6985.470215</td>\n",
              "      <td>121.973000</td>\n",
              "      <td>160.619995</td>\n",
              "      <td>59.977501</td>\n",
              "      <td>28.684</td>\n",
              "      <td>...</td>\n",
              "      <td>7202.551270</td>\n",
              "      <td>121.969002</td>\n",
              "      <td>158.779999</td>\n",
              "      <td>59.687500</td>\n",
              "      <td>28.299999</td>\n",
              "      <td>20802083465</td>\n",
              "      <td>0.0</td>\n",
              "      <td>22622100.0</td>\n",
              "      <td>23753600.0</td>\n",
              "      <td>142981500.0</td>\n",
              "    </tr>\n",
              "    <tr>\n",
              "      <th>2020-01-03</th>\n",
              "      <td>7344.884277</td>\n",
              "      <td>121.245003</td>\n",
              "      <td>152.852264</td>\n",
              "      <td>58.787788</td>\n",
              "      <td>29.534</td>\n",
              "      <td>7344.884277</td>\n",
              "      <td>121.245003</td>\n",
              "      <td>158.619995</td>\n",
              "      <td>59.017502</td>\n",
              "      <td>29.534</td>\n",
              "      <td>...</td>\n",
              "      <td>6984.428711</td>\n",
              "      <td>121.239998</td>\n",
              "      <td>158.320007</td>\n",
              "      <td>58.775002</td>\n",
              "      <td>29.366667</td>\n",
              "      <td>28111481032</td>\n",
              "      <td>0.0</td>\n",
              "      <td>21116200.0</td>\n",
              "      <td>20538400.0</td>\n",
              "      <td>266677500.0</td>\n",
              "    </tr>\n",
              "    <tr>\n",
              "      <th>2020-01-04</th>\n",
              "      <td>7410.656738</td>\n",
              "      <td>121.245003</td>\n",
              "      <td>152.852264</td>\n",
              "      <td>58.787788</td>\n",
              "      <td>29.534</td>\n",
              "      <td>7410.656738</td>\n",
              "      <td>121.245003</td>\n",
              "      <td>158.619995</td>\n",
              "      <td>59.017502</td>\n",
              "      <td>29.534</td>\n",
              "      <td>...</td>\n",
              "      <td>7345.375488</td>\n",
              "      <td>121.239998</td>\n",
              "      <td>158.320007</td>\n",
              "      <td>58.775002</td>\n",
              "      <td>29.366667</td>\n",
              "      <td>18444271275</td>\n",
              "      <td>0.0</td>\n",
              "      <td>21116200.0</td>\n",
              "      <td>20538400.0</td>\n",
              "      <td>266677500.0</td>\n",
              "    </tr>\n",
              "    <tr>\n",
              "      <th>2020-01-05</th>\n",
              "      <td>7411.317383</td>\n",
              "      <td>121.245003</td>\n",
              "      <td>152.852264</td>\n",
              "      <td>58.787788</td>\n",
              "      <td>29.534</td>\n",
              "      <td>7411.317383</td>\n",
              "      <td>121.245003</td>\n",
              "      <td>158.619995</td>\n",
              "      <td>59.017502</td>\n",
              "      <td>29.534</td>\n",
              "      <td>...</td>\n",
              "      <td>7410.451660</td>\n",
              "      <td>121.239998</td>\n",
              "      <td>158.320007</td>\n",
              "      <td>58.775002</td>\n",
              "      <td>29.366667</td>\n",
              "      <td>19725074095</td>\n",
              "      <td>0.0</td>\n",
              "      <td>21116200.0</td>\n",
              "      <td>20538400.0</td>\n",
              "      <td>266677500.0</td>\n",
              "    </tr>\n",
              "  </tbody>\n",
              "</table>\n",
              "<p>5 rows × 30 columns</p>\n",
              "</div>\n",
              "    <div class=\"colab-df-buttons\">\n",
              "\n",
              "  <div class=\"colab-df-container\">\n",
              "    <button class=\"colab-df-convert\" onclick=\"convertToInteractive('df-2cc4afdf-c802-4e01-813b-819a860dcfff')\"\n",
              "            title=\"Convert this dataframe to an interactive table.\"\n",
              "            style=\"display:none;\">\n",
              "\n",
              "  <svg xmlns=\"http://www.w3.org/2000/svg\" height=\"24px\" viewBox=\"0 -960 960 960\">\n",
              "    <path d=\"M120-120v-720h720v720H120Zm60-500h600v-160H180v160Zm220 220h160v-160H400v160Zm0 220h160v-160H400v160ZM180-400h160v-160H180v160Zm440 0h160v-160H620v160ZM180-180h160v-160H180v160Zm440 0h160v-160H620v160Z\"/>\n",
              "  </svg>\n",
              "    </button>\n",
              "\n",
              "  <style>\n",
              "    .colab-df-container {\n",
              "      display:flex;\n",
              "      gap: 12px;\n",
              "    }\n",
              "\n",
              "    .colab-df-convert {\n",
              "      background-color: #E8F0FE;\n",
              "      border: none;\n",
              "      border-radius: 50%;\n",
              "      cursor: pointer;\n",
              "      display: none;\n",
              "      fill: #1967D2;\n",
              "      height: 32px;\n",
              "      padding: 0 0 0 0;\n",
              "      width: 32px;\n",
              "    }\n",
              "\n",
              "    .colab-df-convert:hover {\n",
              "      background-color: #E2EBFA;\n",
              "      box-shadow: 0px 1px 2px rgba(60, 64, 67, 0.3), 0px 1px 3px 1px rgba(60, 64, 67, 0.15);\n",
              "      fill: #174EA6;\n",
              "    }\n",
              "\n",
              "    .colab-df-buttons div {\n",
              "      margin-bottom: 4px;\n",
              "    }\n",
              "\n",
              "    [theme=dark] .colab-df-convert {\n",
              "      background-color: #3B4455;\n",
              "      fill: #D2E3FC;\n",
              "    }\n",
              "\n",
              "    [theme=dark] .colab-df-convert:hover {\n",
              "      background-color: #434B5C;\n",
              "      box-shadow: 0px 1px 3px 1px rgba(0, 0, 0, 0.15);\n",
              "      filter: drop-shadow(0px 1px 2px rgba(0, 0, 0, 0.3));\n",
              "      fill: #FFFFFF;\n",
              "    }\n",
              "  </style>\n",
              "\n",
              "    <script>\n",
              "      const buttonEl =\n",
              "        document.querySelector('#df-2cc4afdf-c802-4e01-813b-819a860dcfff button.colab-df-convert');\n",
              "      buttonEl.style.display =\n",
              "        google.colab.kernel.accessAllowed ? 'block' : 'none';\n",
              "\n",
              "      async function convertToInteractive(key) {\n",
              "        const element = document.querySelector('#df-2cc4afdf-c802-4e01-813b-819a860dcfff');\n",
              "        const dataTable =\n",
              "          await google.colab.kernel.invokeFunction('convertToInteractive',\n",
              "                                                    [key], {});\n",
              "        if (!dataTable) return;\n",
              "\n",
              "        const docLinkHtml = 'Like what you see? Visit the ' +\n",
              "          '<a target=\"_blank\" href=https://colab.research.google.com/notebooks/data_table.ipynb>data table notebook</a>'\n",
              "          + ' to learn more about interactive tables.';\n",
              "        element.innerHTML = '';\n",
              "        dataTable['output_type'] = 'display_data';\n",
              "        await google.colab.output.renderOutput(dataTable, element);\n",
              "        const docLink = document.createElement('div');\n",
              "        docLink.innerHTML = docLinkHtml;\n",
              "        element.appendChild(docLink);\n",
              "      }\n",
              "    </script>\n",
              "  </div>\n",
              "\n",
              "\n",
              "<div id=\"df-f1c011d5-c236-4283-b353-72c4a9e54183\">\n",
              "  <button class=\"colab-df-quickchart\" onclick=\"quickchart('df-f1c011d5-c236-4283-b353-72c4a9e54183')\"\n",
              "            title=\"Suggest charts\"\n",
              "            style=\"display:none;\">\n",
              "\n",
              "<svg xmlns=\"http://www.w3.org/2000/svg\" height=\"24px\"viewBox=\"0 0 24 24\"\n",
              "     width=\"24px\">\n",
              "    <g>\n",
              "        <path d=\"M19 3H5c-1.1 0-2 .9-2 2v14c0 1.1.9 2 2 2h14c1.1 0 2-.9 2-2V5c0-1.1-.9-2-2-2zM9 17H7v-7h2v7zm4 0h-2V7h2v10zm4 0h-2v-4h2v4z\"/>\n",
              "    </g>\n",
              "</svg>\n",
              "  </button>\n",
              "\n",
              "<style>\n",
              "  .colab-df-quickchart {\n",
              "      --bg-color: #E8F0FE;\n",
              "      --fill-color: #1967D2;\n",
              "      --hover-bg-color: #E2EBFA;\n",
              "      --hover-fill-color: #174EA6;\n",
              "      --disabled-fill-color: #AAA;\n",
              "      --disabled-bg-color: #DDD;\n",
              "  }\n",
              "\n",
              "  [theme=dark] .colab-df-quickchart {\n",
              "      --bg-color: #3B4455;\n",
              "      --fill-color: #D2E3FC;\n",
              "      --hover-bg-color: #434B5C;\n",
              "      --hover-fill-color: #FFFFFF;\n",
              "      --disabled-bg-color: #3B4455;\n",
              "      --disabled-fill-color: #666;\n",
              "  }\n",
              "\n",
              "  .colab-df-quickchart {\n",
              "    background-color: var(--bg-color);\n",
              "    border: none;\n",
              "    border-radius: 50%;\n",
              "    cursor: pointer;\n",
              "    display: none;\n",
              "    fill: var(--fill-color);\n",
              "    height: 32px;\n",
              "    padding: 0;\n",
              "    width: 32px;\n",
              "  }\n",
              "\n",
              "  .colab-df-quickchart:hover {\n",
              "    background-color: var(--hover-bg-color);\n",
              "    box-shadow: 0 1px 2px rgba(60, 64, 67, 0.3), 0 1px 3px 1px rgba(60, 64, 67, 0.15);\n",
              "    fill: var(--button-hover-fill-color);\n",
              "  }\n",
              "\n",
              "  .colab-df-quickchart-complete:disabled,\n",
              "  .colab-df-quickchart-complete:disabled:hover {\n",
              "    background-color: var(--disabled-bg-color);\n",
              "    fill: var(--disabled-fill-color);\n",
              "    box-shadow: none;\n",
              "  }\n",
              "\n",
              "  .colab-df-spinner {\n",
              "    border: 2px solid var(--fill-color);\n",
              "    border-color: transparent;\n",
              "    border-bottom-color: var(--fill-color);\n",
              "    animation:\n",
              "      spin 1s steps(1) infinite;\n",
              "  }\n",
              "\n",
              "  @keyframes spin {\n",
              "    0% {\n",
              "      border-color: transparent;\n",
              "      border-bottom-color: var(--fill-color);\n",
              "      border-left-color: var(--fill-color);\n",
              "    }\n",
              "    20% {\n",
              "      border-color: transparent;\n",
              "      border-left-color: var(--fill-color);\n",
              "      border-top-color: var(--fill-color);\n",
              "    }\n",
              "    30% {\n",
              "      border-color: transparent;\n",
              "      border-left-color: var(--fill-color);\n",
              "      border-top-color: var(--fill-color);\n",
              "      border-right-color: var(--fill-color);\n",
              "    }\n",
              "    40% {\n",
              "      border-color: transparent;\n",
              "      border-right-color: var(--fill-color);\n",
              "      border-top-color: var(--fill-color);\n",
              "    }\n",
              "    60% {\n",
              "      border-color: transparent;\n",
              "      border-right-color: var(--fill-color);\n",
              "    }\n",
              "    80% {\n",
              "      border-color: transparent;\n",
              "      border-right-color: var(--fill-color);\n",
              "      border-bottom-color: var(--fill-color);\n",
              "    }\n",
              "    90% {\n",
              "      border-color: transparent;\n",
              "      border-bottom-color: var(--fill-color);\n",
              "    }\n",
              "  }\n",
              "</style>\n",
              "\n",
              "  <script>\n",
              "    async function quickchart(key) {\n",
              "      const quickchartButtonEl =\n",
              "        document.querySelector('#' + key + ' button');\n",
              "      quickchartButtonEl.disabled = true;  // To prevent multiple clicks.\n",
              "      quickchartButtonEl.classList.add('colab-df-spinner');\n",
              "      try {\n",
              "        const charts = await google.colab.kernel.invokeFunction(\n",
              "            'suggestCharts', [key], {});\n",
              "      } catch (error) {\n",
              "        console.error('Error during call to suggestCharts:', error);\n",
              "      }\n",
              "      quickchartButtonEl.classList.remove('colab-df-spinner');\n",
              "      quickchartButtonEl.classList.add('colab-df-quickchart-complete');\n",
              "    }\n",
              "    (() => {\n",
              "      let quickchartButtonEl =\n",
              "        document.querySelector('#df-f1c011d5-c236-4283-b353-72c4a9e54183 button');\n",
              "      quickchartButtonEl.style.display =\n",
              "        google.colab.kernel.accessAllowed ? 'block' : 'none';\n",
              "    })();\n",
              "  </script>\n",
              "</div>\n",
              "    </div>\n",
              "  </div>\n"
            ]
          },
          "metadata": {},
          "execution_count": 78
        }
      ]
    },
    {
      "cell_type": "markdown",
      "source": [
        "Downloading S&P500 data as a market representator"
      ],
      "metadata": {
        "id": "1N5zEhviWpO9"
      }
    },
    {
      "cell_type": "code",
      "source": [
        "SAP_df = yf.download('^GSPC',\n",
        "                      start='2020-01-1',\n",
        "                      end='2023-09-30',\n",
        "                      progress=False).fillna(method='ffill')\n",
        "SAP_df.head()\n",
        "SAP_df['Close'].plot(title=\"Market\")"
      ],
      "metadata": {
        "colab": {
          "base_uri": "https://localhost:8080/",
          "height": 472
        },
        "id": "Xvvso7FzW__i",
        "outputId": "cbae84a8-ec67-4329-a422-3b50ef45018b"
      },
      "execution_count": null,
      "outputs": [
        {
          "output_type": "execute_result",
          "data": {
            "text/plain": [
              "<Axes: title={'center': 'Market'}, xlabel='Date'>"
            ]
          },
          "metadata": {},
          "execution_count": 79
        },
        {
          "output_type": "display_data",
          "data": {
            "text/plain": [
              "<Figure size 640x480 with 1 Axes>"
            ],
            "image/png": "[encoded data removed]"
          },
          "metadata": {}
        }
      ]
    },
    {
      "cell_type": "markdown",
      "source": [
        "Creating separate lists of returns for all stocks in order to calculate betas. Separate lists are created because lists will be of different length."
      ],
      "metadata": {
        "id": "phk5pCG5ylyc"
      }
    },
    {
      "cell_type": "code",
      "source": [
        "BTC_adjclose = df_total['Adj Close']['BTC-USD'].dropna()\n",
        "BTC_returns = BTC_adjclose.pct_change(1).dropna()                                   # Bitcoin returns\n",
        "EURJPY_returns = df_total['Adj Close']['EURJPY=X'].dropna().pct_change(1).dropna()  # Fiat currency pair returns\n",
        "MSFT_returns = df_total['Adj Close']['MSFT'].dropna().pct_change(1).dropna()        # MSFT returns\n",
        "NVDA_returns = df_total['Adj Close']['NVDA'].dropna().pct_change(1).dropna()        # NVDA returns\n",
        "TSLA_returns = df_total['Adj Close']['TSLA'].dropna().pct_change(1).dropna()        # TSLA returns\n",
        "SAP_returns = SAP_df['Adj Close'].dropna().pct_change(1).dropna()                   # Market returns\n"
      ],
      "metadata": {
        "id": "dRtNG9VX6IH0"
      },
      "execution_count": null,
      "outputs": []
    },
    {
      "cell_type": "markdown",
      "source": [
        "Joining closing prices in order to calculate betas. NA values are filled with 0, because in days that stock was not traded it did not generate any return."
      ],
      "metadata": {
        "id": "TPbYHPddE-8N"
      }
    },
    {
      "cell_type": "code",
      "source": [
        "daily_returns = pd.concat([BTC_returns, EURJPY_returns, MSFT_returns, NVDA_returns, TSLA_returns, SAP_returns], axis = 1).fillna(0)\n",
        "daily_returns.columns = ['BTC', 'EURJPY', 'MSFT', 'NVDA', 'TSLA', 'SAP']\n",
        "daily_returns.head()\n",
        "\n",
        "#monthly_returns = daily_returns.asfreq('M')\n",
        "#monthly_returns.head()"
      ],
      "metadata": {
        "colab": {
          "base_uri": "https://localhost:8080/",
          "height": 237
        },
        "id": "Aq1hEJtpFG_Q",
        "outputId": "aa7c7c67-bbfa-4952-da71-e9220f78db0d"
      },
      "execution_count": null,
      "outputs": [
        {
          "output_type": "execute_result",
          "data": {
            "text/plain": [
              "                 BTC    EURJPY      MSFT      NVDA      TSLA       SAP\n",
              "Date                                                                  \n",
              "2020-01-02 -0.029819  0.000025  0.000000  0.000000  0.000000  0.000000\n",
              "2020-01-03  0.051452 -0.005969 -0.012452 -0.016006  0.029633 -0.007060\n",
              "2020-01-04  0.008955  0.000000  0.000000  0.000000  0.000000  0.000000\n",
              "2020-01-05  0.000089  0.000000  0.000000  0.000000  0.000000  0.000000\n",
              "2020-01-06  0.048291 -0.006136  0.002585  0.004193  0.019255  0.003533"
            ],
            "text/html": [
              "\n",
              "  <div id=\"df-d5eef725-664d-4ff9-8ab8-cef6c1f12fa6\" class=\"colab-df-container\">\n",
              "    <div>\n",
              "<style scoped>\n",
              "    .dataframe tbody tr th:only-of-type {\n",
              "        vertical-align: middle;\n",
              "    }\n",
              "\n",
              "    .dataframe tbody tr th {\n",
              "        vertical-align: top;\n",
              "    }\n",
              "\n",
              "    .dataframe thead th {\n",
              "        text-align: right;\n",
              "    }\n",
              "</style>\n",
              "<table border=\"1\" class=\"dataframe\">\n",
              "  <thead>\n",
              "    <tr style=\"text-align: right;\">\n",
              "      <th></th>\n",
              "      <th>BTC</th>\n",
              "      <th>EURJPY</th>\n",
              "      <th>MSFT</th>\n",
              "      <th>NVDA</th>\n",
              "      <th>TSLA</th>\n",
              "      <th>SAP</th>\n",
              "    </tr>\n",
              "    <tr>\n",
              "      <th>Date</th>\n",
              "      <th></th>\n",
              "      <th></th>\n",
              "      <th></th>\n",
              "      <th></th>\n",
              "      <th></th>\n",
              "      <th></th>\n",
              "    </tr>\n",
              "  </thead>\n",
              "  <tbody>\n",
              "    <tr>\n",
              "      <th>2020-01-02</th>\n",
              "      <td>-0.029819</td>\n",
              "      <td>0.000025</td>\n",
              "      <td>0.000000</td>\n",
              "      <td>0.000000</td>\n",
              "      <td>0.000000</td>\n",
              "      <td>0.000000</td>\n",
              "    </tr>\n",
              "    <tr>\n",
              "      <th>2020-01-03</th>\n",
              "      <td>0.051452</td>\n",
              "      <td>-0.005969</td>\n",
              "      <td>-0.012452</td>\n",
              "      <td>-0.016006</td>\n",
              "      <td>0.029633</td>\n",
              "      <td>-0.007060</td>\n",
              "    </tr>\n",
              "    <tr>\n",
              "      <th>2020-01-04</th>\n",
              "      <td>0.008955</td>\n",
              "      <td>0.000000</td>\n",
              "      <td>0.000000</td>\n",
              "      <td>0.000000</td>\n",
              "      <td>0.000000</td>\n",
              "      <td>0.000000</td>\n",
              "    </tr>\n",
              "    <tr>\n",
              "      <th>2020-01-05</th>\n",
              "      <td>0.000089</td>\n",
              "      <td>0.000000</td>\n",
              "      <td>0.000000</td>\n",
              "      <td>0.000000</td>\n",
              "      <td>0.000000</td>\n",
              "      <td>0.000000</td>\n",
              "    </tr>\n",
              "    <tr>\n",
              "      <th>2020-01-06</th>\n",
              "      <td>0.048291</td>\n",
              "      <td>-0.006136</td>\n",
              "      <td>0.002585</td>\n",
              "      <td>0.004193</td>\n",
              "      <td>0.019255</td>\n",
              "      <td>0.003533</td>\n",
              "    </tr>\n",
              "  </tbody>\n",
              "</table>\n",
              "</div>\n",
              "    <div class=\"colab-df-buttons\">\n",
              "\n",
              "  <div class=\"colab-df-container\">\n",
              "    <button class=\"colab-df-convert\" onclick=\"convertToInteractive('df-d5eef725-664d-4ff9-8ab8-cef6c1f12fa6')\"\n",
              "            title=\"Convert this dataframe to an interactive table.\"\n",
              "            style=\"display:none;\">\n",
              "\n",
              "  <svg xmlns=\"http://www.w3.org/2000/svg\" height=\"24px\" viewBox=\"0 -960 960 960\">\n",
              "    <path d=\"M120-120v-720h720v720H120Zm60-500h600v-160H180v160Zm220 220h160v-160H400v160Zm0 220h160v-160H400v160ZM180-400h160v-160H180v160Zm440 0h160v-160H620v160ZM180-180h160v-160H180v160Zm440 0h160v-160H620v160Z\"/>\n",
              "  </svg>\n",
              "    </button>\n",
              "\n",
              "  <style>\n",
              "    .colab-df-container {\n",
              "      display:flex;\n",
              "      gap: 12px;\n",
              "    }\n",
              "\n",
              "    .colab-df-convert {\n",
              "      background-color: #E8F0FE;\n",
              "      border: none;\n",
              "      border-radius: 50%;\n",
              "      cursor: pointer;\n",
              "      display: none;\n",
              "      fill: #1967D2;\n",
              "      height: 32px;\n",
              "      padding: 0 0 0 0;\n",
              "      width: 32px;\n",
              "    }\n",
              "\n",
              "    .colab-df-convert:hover {\n",
              "      background-color: #E2EBFA;\n",
              "      box-shadow: 0px 1px 2px rgba(60, 64, 67, 0.3), 0px 1px 3px 1px rgba(60, 64, 67, 0.15);\n",
              "      fill: #174EA6;\n",
              "    }\n",
              "\n",
              "    .colab-df-buttons div {\n",
              "      margin-bottom: 4px;\n",
              "    }\n",
              "\n",
              "    [theme=dark] .colab-df-convert {\n",
              "      background-color: #3B4455;\n",
              "      fill: #D2E3FC;\n",
              "    }\n",
              "\n",
              "    [theme=dark] .colab-df-convert:hover {\n",
              "      background-color: #434B5C;\n",
              "      box-shadow: 0px 1px 3px 1px rgba(0, 0, 0, 0.15);\n",
              "      filter: drop-shadow(0px 1px 2px rgba(0, 0, 0, 0.3));\n",
              "      fill: #FFFFFF;\n",
              "    }\n",
              "  </style>\n",
              "\n",
              "    <script>\n",
              "      const buttonEl =\n",
              "        document.querySelector('#df-d5eef725-664d-4ff9-8ab8-cef6c1f12fa6 button.colab-df-convert');\n",
              "      buttonEl.style.display =\n",
              "        google.colab.kernel.accessAllowed ? 'block' : 'none';\n",
              "\n",
              "      async function convertToInteractive(key) {\n",
              "        const element = document.querySelector('#df-d5eef725-664d-4ff9-8ab8-cef6c1f12fa6');\n",
              "        const dataTable =\n",
              "          await google.colab.kernel.invokeFunction('convertToInteractive',\n",
              "                                                    [key], {});\n",
              "        if (!dataTable) return;\n",
              "\n",
              "        const docLinkHtml = 'Like what you see? Visit the ' +\n",
              "          '<a target=\"_blank\" href=https://colab.research.google.com/notebooks/data_table.ipynb>data table notebook</a>'\n",
              "          + ' to learn more about interactive tables.';\n",
              "        element.innerHTML = '';\n",
              "        dataTable['output_type'] = 'display_data';\n",
              "        await google.colab.output.renderOutput(dataTable, element);\n",
              "        const docLink = document.createElement('div');\n",
              "        docLink.innerHTML = docLinkHtml;\n",
              "        element.appendChild(docLink);\n",
              "      }\n",
              "    </script>\n",
              "  </div>\n",
              "\n",
              "\n",
              "<div id=\"df-bb8d10fd-47bb-4e15-a17b-e4e980a92c78\">\n",
              "  <button class=\"colab-df-quickchart\" onclick=\"quickchart('df-bb8d10fd-47bb-4e15-a17b-e4e980a92c78')\"\n",
              "            title=\"Suggest charts\"\n",
              "            style=\"display:none;\">\n",
              "\n",
              "<svg xmlns=\"http://www.w3.org/2000/svg\" height=\"24px\"viewBox=\"0 0 24 24\"\n",
              "     width=\"24px\">\n",
              "    <g>\n",
              "        <path d=\"M19 3H5c-1.1 0-2 .9-2 2v14c0 1.1.9 2 2 2h14c1.1 0 2-.9 2-2V5c0-1.1-.9-2-2-2zM9 17H7v-7h2v7zm4 0h-2V7h2v10zm4 0h-2v-4h2v4z\"/>\n",
              "    </g>\n",
              "</svg>\n",
              "  </button>\n",
              "\n",
              "<style>\n",
              "  .colab-df-quickchart {\n",
              "      --bg-color: #E8F0FE;\n",
              "      --fill-color: #1967D2;\n",
              "      --hover-bg-color: #E2EBFA;\n",
              "      --hover-fill-color: #174EA6;\n",
              "      --disabled-fill-color: #AAA;\n",
              "      --disabled-bg-color: #DDD;\n",
              "  }\n",
              "\n",
              "  [theme=dark] .colab-df-quickchart {\n",
              "      --bg-color: #3B4455;\n",
              "      --fill-color: #D2E3FC;\n",
              "      --hover-bg-color: #434B5C;\n",
              "      --hover-fill-color: #FFFFFF;\n",
              "      --disabled-bg-color: #3B4455;\n",
              "      --disabled-fill-color: #666;\n",
              "  }\n",
              "\n",
              "  .colab-df-quickchart {\n",
              "    background-color: var(--bg-color);\n",
              "    border: none;\n",
              "    border-radius: 50%;\n",
              "    cursor: pointer;\n",
              "    display: none;\n",
              "    fill: var(--fill-color);\n",
              "    height: 32px;\n",
              "    padding: 0;\n",
              "    width: 32px;\n",
              "  }\n",
              "\n",
              "  .colab-df-quickchart:hover {\n",
              "    background-color: var(--hover-bg-color);\n",
              "    box-shadow: 0 1px 2px rgba(60, 64, 67, 0.3), 0 1px 3px 1px rgba(60, 64, 67, 0.15);\n",
              "    fill: var(--button-hover-fill-color);\n",
              "  }\n",
              "\n",
              "  .colab-df-quickchart-complete:disabled,\n",
              "  .colab-df-quickchart-complete:disabled:hover {\n",
              "    background-color: var(--disabled-bg-color);\n",
              "    fill: var(--disabled-fill-color);\n",
              "    box-shadow: none;\n",
              "  }\n",
              "\n",
              "  .colab-df-spinner {\n",
              "    border: 2px solid var(--fill-color);\n",
              "    border-color: transparent;\n",
              "    border-bottom-color: var(--fill-color);\n",
              "    animation:\n",
              "      spin 1s steps(1) infinite;\n",
              "  }\n",
              "\n",
              "  @keyframes spin {\n",
              "    0% {\n",
              "      border-color: transparent;\n",
              "      border-bottom-color: var(--fill-color);\n",
              "      border-left-color: var(--fill-color);\n",
              "    }\n",
              "    20% {\n",
              "      border-color: transparent;\n",
              "      border-left-color: var(--fill-color);\n",
              "      border-top-color: var(--fill-color);\n",
              "    }\n",
              "    30% {\n",
              "      border-color: transparent;\n",
              "      border-left-color: var(--fill-color);\n",
              "      border-top-color: var(--fill-color);\n",
              "      border-right-color: var(--fill-color);\n",
              "    }\n",
              "    40% {\n",
              "      border-color: transparent;\n",
              "      border-right-color: var(--fill-color);\n",
              "      border-top-color: var(--fill-color);\n",
              "    }\n",
              "    60% {\n",
              "      border-color: transparent;\n",
              "      border-right-color: var(--fill-color);\n",
              "    }\n",
              "    80% {\n",
              "      border-color: transparent;\n",
              "      border-right-color: var(--fill-color);\n",
              "      border-bottom-color: var(--fill-color);\n",
              "    }\n",
              "    90% {\n",
              "      border-color: transparent;\n",
              "      border-bottom-color: var(--fill-color);\n",
              "    }\n",
              "  }\n",
              "</style>\n",
              "\n",
              "  <script>\n",
              "    async function quickchart(key) {\n",
              "      const quickchartButtonEl =\n",
              "        document.querySelector('#' + key + ' button');\n",
              "      quickchartButtonEl.disabled = true;  // To prevent multiple clicks.\n",
              "      quickchartButtonEl.classList.add('colab-df-spinner');\n",
              "      try {\n",
              "        const charts = await google.colab.kernel.invokeFunction(\n",
              "            'suggestCharts', [key], {});\n",
              "      } catch (error) {\n",
              "        console.error('Error during call to suggestCharts:', error);\n",
              "      }\n",
              "      quickchartButtonEl.classList.remove('colab-df-spinner');\n",
              "      quickchartButtonEl.classList.add('colab-df-quickchart-complete');\n",
              "    }\n",
              "    (() => {\n",
              "      let quickchartButtonEl =\n",
              "        document.querySelector('#df-bb8d10fd-47bb-4e15-a17b-e4e980a92c78 button');\n",
              "      quickchartButtonEl.style.display =\n",
              "        google.colab.kernel.accessAllowed ? 'block' : 'none';\n",
              "    })();\n",
              "  </script>\n",
              "</div>\n",
              "    </div>\n",
              "  </div>\n"
            ]
          },
          "metadata": {},
          "execution_count": 85
        }
      ]
    },
    {
      "cell_type": "markdown",
      "source": [
        "Calculating Betas with risk-free rate = 0 (as during the seminar)."
      ],
      "metadata": {
        "id": "pRDsqMomNmA2"
      }
    },
    {
      "cell_type": "code",
      "source": [
        "results = pd.DataFrame()\n",
        "for col in daily_returns:\n",
        "  y = daily_returns[col]\n",
        "  X = daily_returns['SAP']\n",
        "  X1 = sm.add_constant(X)\n",
        "  model = sm.OLS(y, X1)\n",
        "  par = model.fit().params\n",
        "  results = pd.concat([results, par], axis = 1)\n",
        "results.columns = daily_returns.columns\n",
        "results.index = ['alpha', 'beta']\n",
        "print(results.iloc[ :, 0:-1])\n"
      ],
      "metadata": {
        "colab": {
          "base_uri": "https://localhost:8080/"
        },
        "id": "FUV_0SOaJBP8",
        "outputId": "061d3a89-aef4-48a4-aeb1-5ff56e59cb1b"
      },
      "execution_count": null,
      "outputs": [
        {
          "output_type": "stream",
          "name": "stdout",
          "text": [
            "            BTC    EURJPY      MSFT     NVDA      TSLA\n",
            "alpha  0.001317  0.000203  0.000344  0.00140  0.001825\n",
            "beta   1.052648 -0.011906  1.179672  1.69028  1.508577\n"
          ]
        }
      ]
    },
    {
      "cell_type": "markdown",
      "source": [
        "As we can see betas values vary for different assets. TSLA and NVDA betas are really high which means, that volatility of those stocks is much higher than volatility of the market, this fact makes those stocks more risky than others. It should be mentioned, that CAPM and MPT consider overall volatility as a measure of risk, which means, that those stocks could be rapidly growing, which will cause their betas to be high. Risk premium for those asset is high.\n",
        "\n",
        "Interesting may be negative beta for currency pair EUR-JPY. Small value of beta means, that volatility of this pair is very low (which could be expected for two currencies). Negative value indicates that EUR/JPY will increase in price when market falls and vice versa. Risk premium in such case is negative (lower than risk free rate).\n",
        "\n",
        "Beta coefficient of BTC/USD is only 1.05 which indicates that it generally follows market trend with a little bit of additional volatility. According to CAPM this is not very risky asset, but since beta is positive, risk premium is higher than risk-free rate.\n"
      ],
      "metadata": {
        "id": "MYuMg_XDPioc"
      }
    },
    {
      "cell_type": "markdown",
      "source": [
        "**Creating lowest risk portfolio**"
      ],
      "metadata": {
        "id": "EwlTUh72R55T"
      }
    },
    {
      "cell_type": "markdown",
      "source": [
        "In order to find a minimum risk portfolio we will generate many portfolios and then choose the one with the lowest risk. (Risk in the MPT is defined as volatility)\n",
        "\n",
        "When looking for optimal portfolios it is necessary to control correlations of different assets, since covariances of asset returns affect volatility of portfolio."
      ],
      "metadata": {
        "id": "YLt-3zD2RwYD"
      }
    },
    {
      "cell_type": "code",
      "source": [
        "daily_returns_assets = daily_returns.iloc[:, 0:5]\n",
        "returns_annual = daily_returns_assets.mean()*250\n",
        "cov_daily = daily_returns_assets.cov()\n",
        "cov_annual = cov_daily*250\n",
        "print(cov_annual)"
      ],
      "metadata": {
        "colab": {
          "base_uri": "https://localhost:8080/"
        },
        "id": "eg1K0I2NTupn",
        "outputId": "47f61675-aac9-4076-c8e9-503c7aebcbc2"
      },
      "execution_count": null,
      "outputs": [
        {
          "output_type": "stream",
          "name": "stdout",
          "text": [
            "             BTC    EURJPY      MSFT      NVDA      TSLA\n",
            "BTC     0.314349  0.001230  0.052335  0.085116  0.088929\n",
            "EURJPY  0.001230  0.005561 -0.001475 -0.001779 -0.000360\n",
            "MSFT    0.052335 -0.001475  0.075692  0.092026  0.076013\n",
            "NVDA    0.085116 -0.001779  0.092026  0.209772  0.138745\n",
            "TSLA    0.088929 -0.000360  0.076013  0.138745  0.329459\n"
          ]
        }
      ]
    },
    {
      "cell_type": "code",
      "source": [
        "df_total['Adj Close'].corr().style.background_gradient(cmap='coolwarm').format(precision=2)"
      ],
      "metadata": {
        "colab": {
          "base_uri": "https://localhost:8080/",
          "height": 206
        },
        "id": "Eq4sgSzlUXsE",
        "outputId": "f96e1153-59c2-407a-cd88-48cc86bee981"
      },
      "execution_count": null,
      "outputs": [
        {
          "output_type": "execute_result",
          "data": {
            "text/plain": [
              "<pandas.io.formats.style.Styler at 0x7a89311a43d0>"
            ],
            "text/html": [
              "<style type=\"text/css\">\n",
              "#T_9c307_row0_col0, #T_9c307_row1_col1, #T_9c307_row2_col2, #T_9c307_row3_col3, #T_9c307_row4_col4 {\n",
              "  background-color: #b40426;\n",
              "  color: #f1f1f1;\n",
              "}\n",
              "#T_9c307_row0_col1, #T_9c307_row0_col2, #T_9c307_row0_col3, #T_9c307_row1_col0, #T_9c307_row1_col4 {\n",
              "  background-color: #3b4cc0;\n",
              "  color: #f1f1f1;\n",
              "}\n",
              "#T_9c307_row0_col4 {\n",
              "  background-color: #efcfbf;\n",
              "  color: #000000;\n",
              "}\n",
              "#T_9c307_row1_col2 {\n",
              "  background-color: #688aef;\n",
              "  color: #f1f1f1;\n",
              "}\n",
              "#T_9c307_row1_col3 {\n",
              "  background-color: #f2cbb7;\n",
              "  color: #000000;\n",
              "}\n",
              "#T_9c307_row2_col0 {\n",
              "  background-color: #edd1c2;\n",
              "  color: #000000;\n",
              "}\n",
              "#T_9c307_row2_col1 {\n",
              "  background-color: #f5c0a7;\n",
              "  color: #000000;\n",
              "}\n",
              "#T_9c307_row2_col3 {\n",
              "  background-color: #e8765c;\n",
              "  color: #f1f1f1;\n",
              "}\n",
              "#T_9c307_row2_col4 {\n",
              "  background-color: #f7ba9f;\n",
              "  color: #000000;\n",
              "}\n",
              "#T_9c307_row3_col0, #T_9c307_row4_col3 {\n",
              "  background-color: #9fbfff;\n",
              "  color: #000000;\n",
              "}\n",
              "#T_9c307_row3_col1, #T_9c307_row3_col2 {\n",
              "  background-color: #f6a586;\n",
              "  color: #000000;\n",
              "}\n",
              "#T_9c307_row3_col4 {\n",
              "  background-color: #96b7ff;\n",
              "  color: #000000;\n",
              "}\n",
              "#T_9c307_row4_col0 {\n",
              "  background-color: #f7a688;\n",
              "  color: #000000;\n",
              "}\n",
              "#T_9c307_row4_col1 {\n",
              "  background-color: #a7c5fe;\n",
              "  color: #000000;\n",
              "}\n",
              "#T_9c307_row4_col2 {\n",
              "  background-color: #d3dbe7;\n",
              "  color: #000000;\n",
              "}\n",
              "</style>\n",
              "<table id=\"T_9c307\" class=\"dataframe\">\n",
              "  <thead>\n",
              "    <tr>\n",
              "      <th class=\"blank level0\" >&nbsp;</th>\n",
              "      <th id=\"T_9c307_level0_col0\" class=\"col_heading level0 col0\" >BTC-USD</th>\n",
              "      <th id=\"T_9c307_level0_col1\" class=\"col_heading level0 col1\" >EURJPY=X</th>\n",
              "      <th id=\"T_9c307_level0_col2\" class=\"col_heading level0 col2\" >MSFT</th>\n",
              "      <th id=\"T_9c307_level0_col3\" class=\"col_heading level0 col3\" >NVDA</th>\n",
              "      <th id=\"T_9c307_level0_col4\" class=\"col_heading level0 col4\" >TSLA</th>\n",
              "    </tr>\n",
              "  </thead>\n",
              "  <tbody>\n",
              "    <tr>\n",
              "      <th id=\"T_9c307_level0_row0\" class=\"row_heading level0 row0\" >BTC-USD</th>\n",
              "      <td id=\"T_9c307_row0_col0\" class=\"data row0 col0\" >1.00</td>\n",
              "      <td id=\"T_9c307_row0_col1\" class=\"data row0 col1\" >0.14</td>\n",
              "      <td id=\"T_9c307_row0_col2\" class=\"data row0 col2\" >0.63</td>\n",
              "      <td id=\"T_9c307_row0_col3\" class=\"data row0 col3\" >0.40</td>\n",
              "      <td id=\"T_9c307_row0_col4\" class=\"data row0 col4\" >0.76</td>\n",
              "    </tr>\n",
              "    <tr>\n",
              "      <th id=\"T_9c307_level0_row1\" class=\"row_heading level0 row1\" >EURJPY=X</th>\n",
              "      <td id=\"T_9c307_row1_col0\" class=\"data row1 col0\" >0.14</td>\n",
              "      <td id=\"T_9c307_row1_col1\" class=\"data row1 col1\" >1.00</td>\n",
              "      <td id=\"T_9c307_row1_col2\" class=\"data row1 col2\" >0.69</td>\n",
              "      <td id=\"T_9c307_row1_col3\" class=\"data row1 col3\" >0.76</td>\n",
              "      <td id=\"T_9c307_row1_col4\" class=\"data row1 col4\" >0.42</td>\n",
              "    </tr>\n",
              "    <tr>\n",
              "      <th id=\"T_9c307_level0_row2\" class=\"row_heading level0 row2\" >MSFT</th>\n",
              "      <td id=\"T_9c307_row2_col0\" class=\"data row2 col0\" >0.63</td>\n",
              "      <td id=\"T_9c307_row2_col1\" class=\"data row2 col1\" >0.69</td>\n",
              "      <td id=\"T_9c307_row2_col2\" class=\"data row2 col2\" >1.00</td>\n",
              "      <td id=\"T_9c307_row2_col3\" class=\"data row2 col3\" >0.90</td>\n",
              "      <td id=\"T_9c307_row2_col4\" class=\"data row2 col4\" >0.80</td>\n",
              "    </tr>\n",
              "    <tr>\n",
              "      <th id=\"T_9c307_level0_row3\" class=\"row_heading level0 row3\" >NVDA</th>\n",
              "      <td id=\"T_9c307_row3_col0\" class=\"data row3 col0\" >0.40</td>\n",
              "      <td id=\"T_9c307_row3_col1\" class=\"data row3 col1\" >0.76</td>\n",
              "      <td id=\"T_9c307_row3_col2\" class=\"data row3 col2\" >0.90</td>\n",
              "      <td id=\"T_9c307_row3_col3\" class=\"data row3 col3\" >1.00</td>\n",
              "      <td id=\"T_9c307_row3_col4\" class=\"data row3 col4\" >0.58</td>\n",
              "    </tr>\n",
              "    <tr>\n",
              "      <th id=\"T_9c307_level0_row4\" class=\"row_heading level0 row4\" >TSLA</th>\n",
              "      <td id=\"T_9c307_row4_col0\" class=\"data row4 col0\" >0.76</td>\n",
              "      <td id=\"T_9c307_row4_col1\" class=\"data row4 col1\" >0.42</td>\n",
              "      <td id=\"T_9c307_row4_col2\" class=\"data row4 col2\" >0.80</td>\n",
              "      <td id=\"T_9c307_row4_col3\" class=\"data row4 col3\" >0.58</td>\n",
              "      <td id=\"T_9c307_row4_col4\" class=\"data row4 col4\" >1.00</td>\n",
              "    </tr>\n",
              "  </tbody>\n",
              "</table>\n"
            ]
          },
          "metadata": {},
          "execution_count": 88
        }
      ]
    },
    {
      "cell_type": "code",
      "source": [
        "# empty lists to store returns, volatility and weights of imiginary portfolios\n",
        "port_returns = []\n",
        "port_volatility = []\n",
        "stock_weights = []\n",
        "\n",
        "selected_tickers = returns_annual.index\n",
        "\n",
        "# set the number of combinations for imaginary portfolios\n",
        "num_assets = len(selected_tickers)\n",
        "num_portfolios = 100000\n",
        "np.random.seed(2303)\n",
        "\n",
        "# populate the empty lists with each portfolios returns,risk and weights\n",
        "for single_portfolio in range(num_portfolios):\n",
        "    weights = np.random.random(num_assets)\n",
        "    weights /= np.sum(weights)\n",
        "    returns = np.dot(weights, returns_annual)\n",
        "    volatility = np.sqrt(np.dot(weights.T, np.dot(cov_annual, weights)))\n",
        "    port_returns.append(returns)\n",
        "    port_volatility.append(volatility)\n",
        "    stock_weights.append(weights)\n",
        "\n",
        "# a dictionary for Returns and Risk values of each portfolio\n",
        "portfolio = {'Returns': port_returns,\n",
        "             'Volatility': port_volatility}\n",
        "\n",
        "# extend original dictionary to accomodate each ticker and weight in the portfolio\n",
        "for counter,symbol in enumerate(cov_annual.columns):\n",
        "    portfolio[symbol+' Weight'] = [Weight[counter] for Weight in stock_weights]\n",
        "\n",
        "# make a nice dataframe of the extended dictionary\n",
        "df = pd.DataFrame(portfolio)\n",
        "\n",
        "# get better labels for desired arrangement of columns\n",
        "column_order = ['Returns', 'Volatility'] + [stock+' Weight' for stock in selected_tickers]\n",
        "\n",
        "# reorder dataframe columns\n",
        "df = df[column_order]\n",
        "\n",
        "# plot the efficient frontier with a scatter plot\n",
        "plt.style.use('seaborn')\n",
        "df.plot.scatter(x='Volatility', y='Returns', figsize=(10, 8), grid=True)\n",
        "plt.xlabel('Volatility (Std. Deviation)')\n",
        "plt.ylabel('Expected Returns')\n",
        "plt.title('Efficient Frontier')\n",
        "plt.show()"
      ],
      "metadata": {
        "colab": {
          "base_uri": "https://localhost:8080/",
          "height": 716
        },
        "id": "odCc-MelUlhG",
        "outputId": "da1b1994-a881-49a6-97bd-b3c8d228ddf2"
      },
      "execution_count": null,
      "outputs": [
        {
          "output_type": "display_data",
          "data": {
            "text/plain": [
              "<Figure size 1000x800 with 1 Axes>"
            ],
            "image/png": "[encoded data removed]"
          },
          "metadata": {}
        }
      ]
    },
    {
      "cell_type": "markdown",
      "source": [
        "100000 random portfolios were generated, in order to choose the lowest risk portfolio we will choose the portfolio with lowest volatility."
      ],
      "metadata": {
        "id": "vZR3pOk9V7xm"
      }
    },
    {
      "cell_type": "code",
      "source": [
        "min_vol_port = df.iloc[df['Volatility'].idxmin()]\n",
        "min_vol_port"
      ],
      "metadata": {
        "colab": {
          "base_uri": "https://localhost:8080/"
        },
        "id": "t38anAhpWI3Z",
        "outputId": "77971cc3-3565-4475-8e50-a4e6f3d9f1c2"
      },
      "execution_count": null,
      "outputs": [
        {
          "output_type": "execute_result",
          "data": {
            "text/plain": [
              "Returns          0.092247\n",
              "Volatility       0.078830\n",
              "BTC Weight       0.039174\n",
              "EURJPY Weight    0.838520\n",
              "MSFT Weight      0.080656\n",
              "NVDA Weight      0.023184\n",
              "TSLA Weight      0.018466\n",
              "Name: 50053, dtype: float64"
            ]
          },
          "metadata": {},
          "execution_count": 101
        }
      ]
    },
    {
      "cell_type": "markdown",
      "source": [
        "As we can see in portfolio with minimal volatility the greatest weight (0.83852) has our fiat currency pair EUR/JPY which originally had negative beta coefficient.\n",
        "Had all assets been uncorrelated, our lowest risk portfolio would consisted only of this currency pair. But due to correlation the minimum risk is achieved when combining this currency pair with other assets.\n",
        "The second high weight has MSFT. This weight could be explained by relatively (to other assets) low beta and negative correlation with EUR/JPY. Even though BTC/USD has lower beta (lower risk), it is poisitively correlated with EUR/JPY, which means causes additional portfolio volatility.\n",
        "Total portfolio volatilit is 0.07883 and returns are 0.092. Returns are low, but those can be increased with choosing more risky portfolio. One of those 'more risky' portfolios could ba tangency portfolio which can be found by maximizing Sharpe ratio."
      ],
      "metadata": {
        "id": "0S-0KnPtWrVK"
      }
    },
    {
      "cell_type": "markdown",
      "source": [
        "**Build the optimum risk portfolio given by the assets and the data, with risk free rate equal to 3.2 %.**"
      ],
      "metadata": {
        "id": "iWCUn1mHZvfE"
      }
    },
    {
      "cell_type": "markdown",
      "source": [
        "According to CAPM model, the optimum risk portfolio is the portfolio on the efficient frontier which maximizes Sharpe ratio.\n",
        "Sharpe ratio can be calculated as follows:\n",
        "\n",
        "$I_{Sharpe} = \\frac{E_{r} - R_{f}}{σ} $,\n",
        "where:\n",
        "*   $E_{r}$ is expected portfolio return\n",
        "*   $R_{f}$ is risk-free rate\n",
        "*   $σ$ is the portfolio volatility\n",
        "\n",
        "\n",
        "\n",
        "---\n",
        "We will find this portfolio between our generated portfolios by looking for one that maximizes Sharpe ratio.\n",
        "\n"
      ],
      "metadata": {
        "id": "WgPbrFqvZ7Ww"
      }
    },
    {
      "cell_type": "code",
      "source": [
        "rf = 0.032 # risk-free rate\n",
        "optimal_risky_port = df.iloc[((df['Returns']-rf)/df['Volatility']).idxmax()]\n",
        "optimal_risky_port"
      ],
      "metadata": {
        "colab": {
          "base_uri": "https://localhost:8080/"
        },
        "id": "fmdBS89eW3bQ",
        "outputId": "3c68a4c3-d4ab-4df4-a258-c047237e5441"
      },
      "execution_count": null,
      "outputs": [
        {
          "output_type": "execute_result",
          "data": {
            "text/plain": [
              "Returns          0.255128\n",
              "Volatility       0.195845\n",
              "BTC Weight       0.097150\n",
              "EURJPY Weight    0.519227\n",
              "MSFT Weight      0.005818\n",
              "NVDA Weight      0.241941\n",
              "TSLA Weight      0.135865\n",
              "Name: 12846, dtype: float64"
            ]
          },
          "metadata": {},
          "execution_count": 103
        }
      ]
    },
    {
      "cell_type": "markdown",
      "source": [
        "This is our portfolio optimal risk portfolio according to MPT. We can compare this portfolio with our minimum risk portfolio. Volatility is higher, but returns of the portfolio raised more than portfolio's volatility. This is because of Sharpe ratio maximization.\n",
        "\n",
        "Still, our main asset is EUR/JPY, but its weight decreased by 30% and now is 0.5192. Much higher weight gained NVDA stock, which had high beta in the original CAPM model and is negatively correlated with EUR/JPY.\n",
        "\n",
        "Fiat currency pair ensures lower risk of our portfolio, while main return comes from two stocks: NVDA (weight - 0.242) and TSLE (weight - 0.136). High stocks volatility means high risk premium and higher returns. Negative correlation between stocks and EUR/JPY gives us good total volatility of portfolio.\n"
      ],
      "metadata": {
        "id": "4HLwyG_6bt1n"
      }
    },
    {
      "cell_type": "markdown",
      "source": [
        "**Pick a VaR method of your choice and calculate the 99% 10 day VaR for the minimun risk and optimum risk portfolio. Comment the results.**"
      ],
      "metadata": {
        "id": "ubQ9YDnPdsQ-"
      }
    },
    {
      "cell_type": "markdown",
      "source": [
        "Our minimum risk and oprimal risk portfolios are:"
      ],
      "metadata": {
        "id": "pL9-wMR4dvFi"
      }
    },
    {
      "cell_type": "code",
      "source": [
        "ports = pd.concat([min_vol_port, optimal_risky_port], axis = 1)\n",
        "ports.columns = ['Minimal Risk', 'Optimal Risk']\n",
        "print(ports)"
      ],
      "metadata": {
        "colab": {
          "base_uri": "https://localhost:8080/"
        },
        "id": "3Dy6ZydWfAFC",
        "outputId": "607742a7-db4d-4499-dfa3-c7db898acd69"
      },
      "execution_count": null,
      "outputs": [
        {
          "output_type": "stream",
          "name": "stdout",
          "text": [
            "               Minimal Risk  Optimal Risk\n",
            "Returns            0.092247      0.255128\n",
            "Volatility         0.078830      0.195845\n",
            "BTC Weight         0.039174      0.097150\n",
            "EURJPY Weight      0.838520      0.519227\n",
            "MSFT Weight        0.080656      0.005818\n",
            "NVDA Weight        0.023184      0.241941\n",
            "TSLA Weight        0.018466      0.135865\n"
          ]
        }
      ]
    },
    {
      "cell_type": "markdown",
      "source": [
        "We can calculate VaR either from empirical distribution, or from\n",
        "approximation of our empirical distribution by some known distribution. Real world returns often do not follow any theoretical distriobution (they may be skewed or fat-tailed), so we can calculate VaR using our empirical distributions from data.\n",
        "\n",
        "\n",
        "\n",
        "---\n",
        "\n",
        "Define two functions to calculate VaR"
      ],
      "metadata": {
        "id": "IAsbOdzTfu5u"
      }
    },
    {
      "cell_type": "code",
      "source": [
        "def getData(portfolio):\n",
        "    df = pd.DataFrame()\n",
        "    for stock in portfolio:\n",
        "        s = yf.Ticker(stock)\n",
        "        df[stock] = s.history(period='4y')[\"Close\"]\n",
        "    return df\n",
        "\n",
        "def VaR(portfolio, weights, price, date = datetime.today()):\n",
        "    '''\n",
        "    Takes in the list of stocks in your portfolio,\n",
        "    '''\n",
        "    df = getData(portfolio)\n",
        "    df = df[-501:]\n",
        "    df_exp =(df)/df.iloc[0]\n",
        "    df_exp = df_exp*weights*price\n",
        "    df['Value'] = df_exp.sum(axis = 1)\n",
        "    df_loss = df.set_index(np.arange(0,501,1))\n",
        "    for i in range(1,501):\n",
        "        df_loss.iloc[i-1] = (df.iloc[i]/df.iloc[i-1])*df.iloc[-1]\n",
        "    df_loss = df_loss[:-1]\n",
        "    for i in range (500):\n",
        "        df_loss['Value'].iloc[i]  = round(df_loss[\"Value\"].iloc[i]-df[\"Value\"].iloc[-1] , 2)\n",
        "    arr = df_loss['Value'].values *-1\n",
        "    arr = np.sort(arr)\n",
        "    print(\"The 10 day 99 percent confidence VaR is: \",'{:2f}'.format(round(arr[4],2)*math.sqrt(10)*-1))\n"
      ],
      "metadata": {
        "id": "PLePckV7kNjY"
      },
      "execution_count": null,
      "outputs": []
    },
    {
      "cell_type": "markdown",
      "source": [
        "Calculation of VaR using those functions"
      ],
      "metadata": {
        "id": "b5-r9XMKmRWn"
      }
    },
    {
      "cell_type": "code",
      "source": [
        "\n",
        "portfolio = ['BTC-USD', 'TSLA', 'NVDA', 'MSFT', 'EURJPY=X']\n",
        "weights = np.array(min_vol_port[2:8])\n",
        "start = '2020-01-01'\n",
        "price = 100\n",
        "print('Minimal risk portfolio:')\n",
        "VaR(portfolio, weights, price)\n",
        "weights = np.array(optimal_risky_port[2:8])\n",
        "print('Optimal risk portfolio:')\n",
        "VaR(portfolio, weights, price)"
      ],
      "metadata": {
        "colab": {
          "base_uri": "https://localhost:8080/"
        },
        "id": "VU9ftKrdmWI3",
        "outputId": "a81fe025-056e-4661-ed4d-ac17e7211169"
      },
      "execution_count": null,
      "outputs": [
        {
          "output_type": "stream",
          "name": "stdout",
          "text": [
            "Minimal risk portfolio:\n",
            "The 10 day 99 percent confidence VaR is:  2.150349\n",
            "Optimal risk portfolio:\n",
            "The 10 day 99 percent confidence VaR is:  5.344249\n"
          ]
        }
      ]
    },
    {
      "cell_type": "markdown",
      "source": [
        "For our minimal risk portfolio 10 day loss should not be greater than 2.15% of our portfolio. And for optimal risk portfolio 10 day loss should not exceed 5.34% of our portfolio cost. So if we would invested 1,000,000$ in our portfolios, then our 10 day loss would not be higher than 53508 in 99% cases for optimal risk portfolio and 21576 for minimal risk portfolio.\n",
        "\n",
        "We can see that VaR for optimal risk portfolio is much higher than that of minimum risk portfolio, which should be expected, since our volatility grew much higher.\n",
        "\n",
        "Generally, value at risk is a good measure of risk, which can be actively used when constructing or optimizing portfolios."
      ],
      "metadata": {
        "id": "l1PPsMgen2VP"
      }
    }
  ]
}